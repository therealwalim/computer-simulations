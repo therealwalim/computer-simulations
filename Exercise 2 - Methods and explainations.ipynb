{
 "cells": [
  {
   "cell_type": "markdown",
   "id": "49d0b2d5",
   "metadata": {},
   "source": [
    "## Exercise 2\n",
    "\n",
    "### 1 | Finding equations :\n",
    "\n",
    "#### Equation for the **line 1** is clear and easy to guess because it's a linear function which is : \n",
    "$y = x$\n",
    "\n",
    "#### Equation for the **line 2** :\n",
    "$y = px + d$\n",
    "\n",
    "$p = \\frac{Y_b - Y_a}{X_b - X_a}$\n",
    "\n",
    "$A (2;2)$ and $B (6;1)$\n",
    "\n",
    "$p = \\frac{1-2}{6-2} = - \\frac{1}{4}$\n",
    "\n",
    "A is a point of the line so $Y_a = - \\frac{1}{4} X_a + d$\n",
    "\n",
    "$d = \\frac{10}{4}$\n",
    "\n",
    "so $y = - \\frac{1}{4} x + \\frac{5}{2}$\n",
    "\n",
    "#### Equation for the **line 3** :\n",
    "\n",
    "$A (6;1)$ and $B (8;0)$\n",
    "\n",
    "$p = \\frac{1-2}{6-2} = - \\frac{1}{2}$\n",
    "\n",
    "A is a point of the line so $Y_a = - \\frac{1}{2} X_a + d$\n",
    "\n",
    "$d = 4$\n",
    "\n",
    "so $y = - \\frac{1}{2} x + 4$\n",
    "\n",
    "### 2 | Code :"
   ]
  },
  {
   "cell_type": "code",
   "execution_count": null,
   "id": "18dd9561",
   "metadata": {},
   "outputs": [],
   "source": [
    "runs <-100000\n",
    "xs <-runif(runs,min=0,max=8)\n",
    "ys <-runif(runs,min=0,max=2)\n",
    "in.figure <-(xs <= 2 & ys <= xs) | (xs > 2 & xs < 6 & ys <= -1/4*xs + 2.5) | (xs > 6 & xs < 8 & ys <= -1/2*xs + 4)\n",
    "mc.area <-(sum(in.figure)/runs)*16 #16 is area of the rectangle\n",
    "plot(xs,ys,pch='.',col=ifelse(in.figure,\"blue\",\"grey\"),xlab='',ylab='',asp=0,main=paste(\"MC Approximation of area =\",mc.area))"
   ]
  },
  {
   "cell_type": "markdown",
   "id": "984de382",
   "metadata": {},
   "source": [
    "###  3 | Graph :\n",
    "![MC Approximation of area](https://i.imgur.com/KqexTNd.png)"
   ]
  },
  {
   "cell_type": "code",
   "execution_count": null,
   "id": "bb0d0ef9",
   "metadata": {},
   "outputs": [],
   "source": []
  }
 ],
 "metadata": {
  "kernelspec": {
   "display_name": "R",
   "language": "R",
   "name": "ir"
  },
  "language_info": {
   "codemirror_mode": "r",
   "file_extension": ".r",
   "mimetype": "text/x-r-source",
   "name": "R",
   "pygments_lexer": "r",
   "version": "3.6.1"
  }
 },
 "nbformat": 4,
 "nbformat_minor": 5
}
