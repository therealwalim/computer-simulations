{
 "cells": [
  {
   "cell_type": "markdown",
   "id": "4d30cf99",
   "metadata": {},
   "source": [
    "## Exercise 1\n",
    "\n",
    "### 1 | Calculating the approximation error :\n",
    "\n",
    "**Approximation error is** the _absolute difference_ between approximation of $π$ and the real $π$ value so :\n",
    "\n",
    "**appro_err** = $| mc.pi -π |$\n",
    "\n",
    "#### Using the same size of our last try :\n",
    "\n",
    "**appro_err** = $| 3.14244 - 3.14159265 | = 0.00084735$\n",
    "\n",
    "![Schema](https://i.imgur.com/hJIfmMZ.png)\n",
    "\n",
    "To calculate the variation of this approximation we have to take different values between specific intervals, in our case we have chosen numbers between $[1000,1000000]$ where we will take 10 elements.\n",
    "### 2 | Code :"
   ]
  },
  {
   "cell_type": "code",
   "execution_count": null,
   "id": "e8a67c37",
   "metadata": {},
   "outputs": [],
   "source": [
    "runs <- runif(10, min=10000, max=1000000)\n",
    "apro_err <- c()\n",
    "\n",
    "PI_REAL <- 3.14159265\n",
    "RUN_MIN <- -0.5\n",
    "RUN_MAX <- 0.5\n",
    "\n",
    "for (i in seq_along(runs)){\n",
    "  #runif samples from a uniform distribution\n",
    "  run <- runs[i]\n",
    "  xs <- runif(run, min = RUN_MIN, max = RUN_MAX)\n",
    "  ys <- runif(run, min = RUN_MIN, max = RUN_MAX)\n",
    "  in.circle <- xs^2 + ys^2 <= RUN_MAX^2\n",
    "  mc.pi <- (sum(in.circle)/run) * 4\n",
    "  absdif <- abs(mc.pi - PI_REAL)\n",
    "  apro_err[i] <- absdif\n",
    "  # plot(xs,ys,pch=\".\",col=ifelse(in.circle,\"blue\",\"red\"),xlab='',ylab='',asp=1, main=paste(\"MC Approximation of Pi =\",mc.pi))\n",
    "}\n",
    "\n",
    "plot(runs, apro_err, ylab='Approximation Error', xlab='Sample Size',col='red', main=paste(\"Approximation Error\"))"
   ]
  },
  {
   "cell_type": "markdown",
   "id": "ec7d37ba",
   "metadata": {},
   "source": [
    "### 3 | Graph :"
   ]
  },
  {
   "cell_type": "markdown",
   "id": "37433042",
   "metadata": {},
   "source": [
    "![Schema 2](https://i.imgur.com/TcAglhP.png)"
   ]
  },
  {
   "cell_type": "code",
   "execution_count": null,
   "id": "36709ff8",
   "metadata": {},
   "outputs": [],
   "source": []
  }
 ],
 "metadata": {
  "kernelspec": {
   "display_name": "R",
   "language": "R",
   "name": "ir"
  },
  "language_info": {
   "codemirror_mode": "r",
   "file_extension": ".r",
   "mimetype": "text/x-r-source",
   "name": "R",
   "pygments_lexer": "r",
   "version": "3.6.1"
  }
 },
 "nbformat": 4,
 "nbformat_minor": 5
}
